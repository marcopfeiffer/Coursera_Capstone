{
 "cells": [
  {
   "cell_type": "code",
   "execution_count": 180,
   "metadata": {},
   "outputs": [],
   "source": [
    "#import libraries\n",
    "import urllib.request, urllib.parse, urllib.error\n",
    "from bs4 import BeautifulSoup\n",
    "import ssl\n",
    "import pandas as pd"
   ]
  },
  {
   "cell_type": "code",
   "execution_count": 181,
   "metadata": {},
   "outputs": [],
   "source": [
    "def getData(url):\n",
    "\n",
    "    #create connection to url\n",
    "    html = urllib.request.urlopen(url, context=ctx).read()\n",
    "    soup = BeautifulSoup(html, 'html.parser')\n",
    "    \n",
    "    #read all talbes in list\n",
    "    tables = soup.find_all(\"table\")\n",
    "    \n",
    "    #create empty data array\n",
    "    data = []\n",
    "\n",
    "    #read all rows and data of the first table\n",
    "    for tr in tables[0].find_all('tr'):\n",
    "        try:\n",
    "            td = tr.find_all('td')\n",
    "            label = td[2].text\n",
    "            \n",
    "            #only add valid rows\n",
    "            if \"Not assigned\" not in label:\n",
    "                \n",
    "                if \"M\" in td[0].text:\n",
    "                    row = []\n",
    "                    row.append(td[0].text)\n",
    "                    row.append(td[1].text)\n",
    "                    row.append(td[2].text.replace(\"\\n\",\"\"))\n",
    "                    \n",
    "                    data.append(row)\n",
    "             \n",
    "\n",
    "    \n",
    "\n",
    "        except: \n",
    "            pass\n",
    "\n",
    "    #create data frame\n",
    "    df = pd.DataFrame(data, columns = ['PostalCode', 'Borough','Neighborhood'])\n",
    "    \n",
    "    #group array and combine Neighboorhoods\n",
    "    df = df.groupby(['PostalCode','Borough'])['Neighborhood'].apply(','.join).reset_index()\n",
    "    \n",
    "    return df\n",
    "        \n",
    "            "
   ]
  },
  {
   "cell_type": "code",
   "execution_count": 182,
   "metadata": {},
   "outputs": [
    {
     "name": "stdout",
     "output_type": "stream",
     "text": [
      "(102, 3)\n"
     ]
    }
   ],
   "source": [
    "# Ignore SSL certificate errors\n",
    "ctx = ssl.create_default_context()\n",
    "ctx.check_hostname = False\n",
    "ctx.verify_mode = ssl.CERT_NONE\n",
    "\n",
    "url = 'https://en.wikipedia.org/wiki/List_of_postal_codes_of_Canada:_M'\n",
    "\n",
    "#create dataframe from url\n",
    "df = getData(url)\n",
    "\n",
    "#print shape of dataframe\n",
    "print(df.shape)"
   ]
  },
  {
   "cell_type": "code",
   "execution_count": null,
   "metadata": {},
   "outputs": [],
   "source": []
  }
 ],
 "metadata": {
  "kernelspec": {
   "display_name": "Python 3",
   "language": "python",
   "name": "python3"
  },
  "language_info": {
   "codemirror_mode": {
    "name": "ipython",
    "version": 3
   },
   "file_extension": ".py",
   "mimetype": "text/x-python",
   "name": "python",
   "nbconvert_exporter": "python",
   "pygments_lexer": "ipython3",
   "version": "3.6.7"
  }
 },
 "nbformat": 4,
 "nbformat_minor": 2
}
